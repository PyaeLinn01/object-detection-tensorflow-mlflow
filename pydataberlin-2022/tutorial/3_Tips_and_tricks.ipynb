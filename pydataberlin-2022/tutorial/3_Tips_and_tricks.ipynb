{
 "cells": [
  {
   "cell_type": "markdown",
   "id": "68daaba6",
   "metadata": {},
   "source": [
    "# 3. Tips and Tricks"
   ]
  },
  {
   "cell_type": "code",
   "execution_count": null,
   "id": "d55b5866",
   "metadata": {},
   "outputs": [],
   "source": [
    "import mlflow\n",
    "\n",
    "remote_server_uri = \"http://0.0.0.0:5001\"   # set to your server URI\n",
    "mlflow.set_tracking_uri(remote_server_uri)  # or set the MLFLOW_TRACKING_URI in the env"
   ]
  },
  {
   "cell_type": "markdown",
   "id": "5b8c8b11",
   "metadata": {},
   "source": [
    "## 3.1 Tags\n",
    "\n",
    "`mlflow.set_tag()` sets a **single key-value tag** in the currently active run. The key and value are both strings. (Use `mlflow.set_tags()` to set multiple tags at once.)"
   ]
  },
  {
   "cell_type": "markdown",
   "id": "e9f9be25",
   "metadata": {},
   "source": [
    "### Tag runs\n",
    "\n",
    "We want to set tags now after the run completed. Could be, for example, further testing completed before you want and can deploy a model."
   ]
  },
  {
   "cell_type": "code",
   "execution_count": null,
   "id": "c4eac24e",
   "metadata": {},
   "outputs": [],
   "source": [
    "from  mlflow.tracking import MlflowClient\n",
    "\n",
    "client = MlflowClient()\n",
    "experiments = client.get_experiment(1) # returns a list of mlflow.entities.Experiment\n",
    "print(experiments)"
   ]
  },
  {
   "cell_type": "code",
   "execution_count": null,
   "id": "05a0f618",
   "metadata": {},
   "outputs": [],
   "source": [
    "run_id = \"25315be620b0446b9d34876e8a62f06d\"\n",
    "client.set_tag(run_id, \"tag_key\", \"tag_value\")"
   ]
  },
  {
   "cell_type": "markdown",
   "id": "a1d278d3",
   "metadata": {},
   "source": [
    "### Tag models"
   ]
  },
  {
   "cell_type": "code",
   "execution_count": null,
   "id": "126f2a70",
   "metadata": {},
   "outputs": [],
   "source": [
    "latest_model = client.get_latest_versions(\"penguins_clf\")[-1]\n",
    "latest_model.version"
   ]
  },
  {
   "cell_type": "code",
   "execution_count": null,
   "id": "83698ba0",
   "metadata": {},
   "outputs": [],
   "source": [
    "client.set_model_version_tag(\"penguins_clf\", latest_model.version, \"tag_key\", \"tag_value\")"
   ]
  },
  {
   "cell_type": "markdown",
   "id": "552dd8bc",
   "metadata": {},
   "source": [
    "## 3.2 Custom models\n",
    "\n",
    "https://mlflow.org/docs/latest/models.html#id47"
   ]
  },
  {
   "cell_type": "markdown",
   "id": "4fd48471",
   "metadata": {},
   "source": [
    "## 3.3 MLflow Examples\n",
    "\n",
    "https://github.com/mlflow/mlflow/tree/master/examples"
   ]
  },
  {
   "cell_type": "code",
   "execution_count": null,
   "id": "b3db1d92",
   "metadata": {},
   "outputs": [],
   "source": [
    "dd"
   ]
  }
 ],
 "metadata": {
  "kernelspec": {
   "display_name": "Python 3 (ipykernel)",
   "language": "python",
   "name": "python3"
  },
  "language_info": {
   "codemirror_mode": {
    "name": "ipython",
    "version": 3
   },
   "file_extension": ".py",
   "mimetype": "text/x-python",
   "name": "python",
   "nbconvert_exporter": "python",
   "pygments_lexer": "ipython3",
   "version": "3.10.10"
  }
 },
 "nbformat": 4,
 "nbformat_minor": 5
}
