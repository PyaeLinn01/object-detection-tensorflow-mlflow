{
 "cells": [
  {
   "cell_type": "markdown",
   "id": "68daaba6",
   "metadata": {},
   "source": [
    "# 3. Tips and Tricks"
   ]
  },
  {
   "cell_type": "code",
   "execution_count": 3,
   "id": "d55b5866",
   "metadata": {},
   "outputs": [],
   "source": [
    "import mlflow\n",
    "\n",
    "remote_server_uri = \"http://0.0.0.0:5001\"   # set to your server URI\n",
    "mlflow.set_tracking_uri(remote_server_uri)  # or set the MLFLOW_TRACKING_URI in the env"
   ]
  },
  {
   "cell_type": "markdown",
   "id": "5b8c8b11",
   "metadata": {},
   "source": [
    "## 3.1 Tags\n",
    "\n",
    "`mlflow.set_tag()` sets a **single key-value tag** in the currently active run. The key and value are both strings. (Use `mlflow.set_tags()` to set multiple tags at once.)"
   ]
  },
  {
   "cell_type": "markdown",
   "id": "e9f9be25",
   "metadata": {},
   "source": [
    "### Tag runs\n",
    "\n",
    "We want to set tags now after the run completed. Could be, for example, further testing completed before you want and can deploy a model."
   ]
  },
  {
   "cell_type": "code",
   "execution_count": 4,
   "id": "c4eac24e",
   "metadata": {},
   "outputs": [
    {
     "name": "stdout",
     "output_type": "stream",
     "text": [
      "<Experiment: artifact_location='mlflow-artifacts:/181050822057161957', creation_time=1747915038712, experiment_id='181050822057161957', last_update_time=1747915038712, lifecycle_stage='active', name='penguin_classification_new', tags={}>\n"
     ]
    }
   ],
   "source": [
    "from  mlflow.tracking import MlflowClient\n",
    "\n",
    "client = MlflowClient()\n",
    "experiments = client.get_experiment(\"181050822057161957\") # returns a list of mlflow.entities.Experiment\n",
    "print(experiments)"
   ]
  },
  {
   "cell_type": "code",
   "execution_count": 5,
   "id": "05a0f618",
   "metadata": {},
   "outputs": [],
   "source": [
    "run_id = \"0c2a356eecc141eb9ed000728ef2182c\"\n",
    "client.set_tag(run_id, \"tag_key\", \"tag_value\")"
   ]
  },
  {
   "cell_type": "markdown",
   "id": "a1d278d3",
   "metadata": {},
   "source": [
    "### Tag models"
   ]
  },
  {
   "cell_type": "code",
   "execution_count": 6,
   "id": "126f2a70",
   "metadata": {},
   "outputs": [
    {
     "name": "stderr",
     "output_type": "stream",
     "text": [
      "/var/folders/d3/vskdykq51ls6y387np4y9flr0000gn/T/ipykernel_13347/218912102.py:1: FutureWarning: ``mlflow.tracking.client.MlflowClient.get_latest_versions`` is deprecated since 2.9.0. Model registry stages will be removed in a future major release. To learn more about the deprecation of model registry stages, see our migration guide here: https://mlflow.org/docs/latest/model-registry.html#migrating-from-stages\n",
      "  latest_model = client.get_latest_versions(\"penguin\")[-1]\n"
     ]
    },
    {
     "data": {
      "text/plain": [
       "'1'"
      ]
     },
     "execution_count": 6,
     "metadata": {},
     "output_type": "execute_result"
    }
   ],
   "source": [
    "latest_model = client.get_latest_versions(\"penguin\")[-1]\n",
    "latest_model.version"
   ]
  },
  {
   "cell_type": "code",
   "execution_count": 7,
   "id": "83698ba0",
   "metadata": {},
   "outputs": [],
   "source": [
    "client.set_model_version_tag(\"penguin\", latest_model.version, \"tag_key\", \"tag_value\")"
   ]
  },
  {
   "cell_type": "markdown",
   "id": "552dd8bc",
   "metadata": {},
   "source": [
    "## 3.2 Custom models\n",
    "\n",
    "https://mlflow.org/docs/latest/models.html#id47"
   ]
  },
  {
   "cell_type": "markdown",
   "id": "4fd48471",
   "metadata": {},
   "source": [
    "## 3.3 MLflow Examples\n",
    "\n",
    "https://github.com/mlflow/mlflow/tree/master/examples"
   ]
  }
 ],
 "metadata": {
  "kernelspec": {
   "display_name": "myenv",
   "language": "python",
   "name": "python3"
  },
  "language_info": {
   "codemirror_mode": {
    "name": "ipython",
    "version": 3
   },
   "file_extension": ".py",
   "mimetype": "text/x-python",
   "name": "python",
   "nbconvert_exporter": "python",
   "pygments_lexer": "ipython3",
   "version": "3.13.2"
  }
 },
 "nbformat": 4,
 "nbformat_minor": 5
}
